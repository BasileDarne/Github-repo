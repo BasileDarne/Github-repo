{
 "cells": [
  {
   "cell_type": "markdown",
   "metadata": {},
   "source": [
    "# TP1 - IA"
   ]
  },
  {
   "cell_type": "code",
   "execution_count": 3,
   "metadata": {},
   "outputs": [],
   "source": [
    "import pickle\n",
    "import os \n",
    "# import numpy as np\n",
    "import random\n",
    "\n",
    "def read_cifar_batch(batch):\n",
    "    \"\"\"\n",
    "    batch : is a string, path of a single batch\n",
    "    returns : matrix data, vector labels\n",
    "    \"\"\"\n",
    "    with open(batch, 'rb') as fo:\n",
    "        dict = pickle.load(fo, encoding='bytes')\n",
    "    # print(dict.keys())\n",
    "    labels = dict[b'labels']\n",
    "    data = dict[b'data']\n",
    "    return(data, labels)\n",
    "\n",
    "def read_cifar(path):\n",
    "    \"\"\"\n",
    "    parameter : path of directory containing 5 data batches + test batch \n",
    "    returns : data, labels\n",
    "    \"\"\"\n",
    "    batches = [\"data_batch_1/\", \"data_batch_2/\", \"data_batch_3/\", \"data_batch_4/\", \"data_batch_5/\", \"test_batch/\"]\n",
    "    list_data = []\n",
    "    list_labels = []\n",
    "    for name in batches:\n",
    "        file_path = os.path.join(path, name)\n",
    "        data_i, labels_i = read_cifar_batch(file_path)\n",
    "        list_data.append(data_i)\n",
    "        list_labels.append(labels_i)\n",
    "    data = np.concatenate(list_data)\n",
    "    labels = np.concatenate(list_labels)\n",
    "    return data, labels\n",
    "\n",
    "def split_dataset(data, labels, split):\n",
    "    nb_im = len(data)\n",
    "    shuffled = [i for i in range(0, nb_im)]\n",
    "    np.random.shuffle(shuffled) # liste d'entiers mélangés sans répétition entre 0 et 59 999 : indices des images\n",
    "\n",
    "    split_index = round(split*nb_im)\n",
    "    # print(split_index)\n",
    "    train_index = shuffled[:split_index]\n",
    "    test_index = shuffled[split_index:]\n",
    "    data_train = []\n",
    "    labels_train = []\n",
    "    for i in train_index:\n",
    "        data_train.append(data[i])\n",
    "        labels_train.append(labels[i])\n",
    "    \n",
    "    data_test = []\n",
    "    labels_test = []\n",
    "    for i in test_index:\n",
    "        data_test.append(data[i])\n",
    "        labels_test.append(labels[i])\n",
    "\n",
    "    data_train = np.array(data_train, dtype=np.float32)\n",
    "    data_test = np.array(data_test, dtype=np.int64)\n",
    "    labels_train = np.array(labels_train, dtype=np.float32)\n",
    "    labels_test = np.array(labels_test)\n",
    "    \n",
    "    return(data_train, labels_train, data_test, labels_test)"
   ]
  },
  {
   "cell_type": "markdown",
   "metadata": {},
   "source": [
    "## k-nearest neighboors"
   ]
  },
  {
   "cell_type": "markdown",
   "metadata": {},
   "source": [
    "1. Distance function"
   ]
  },
  {
   "cell_type": "code",
   "execution_count": 27,
   "metadata": {},
   "outputs": [
    {
     "name": "stdout",
     "output_type": "stream",
     "text": [
      "14.696938456699069\n"
     ]
    }
   ],
   "source": [
    "import numpy as np\n",
    "\n",
    "def distance_matrix(matrix1, matrix2):\n",
    "    \"\"\"\n",
    "    a, b are two matrices of same dimension\n",
    "    returns the L2 Euclidian distance matrix\n",
    "    \"\"\"\n",
    "    # matrix1_expanded = np.expand_dims(matrix1, axis=1)\n",
    "    # matrix2_expanded = np.expand_dims(matrix2, axis=0)\n",
    "\n",
    "    # Compute element-wise squared differences\n",
    "    squared_diff = np.sum((matrix1 - matrix2)**2)\n",
    "\n",
    "    # Compute the L2 Euclidean distance matrix\n",
    "    dists = np.sqrt(squared_diff)\n",
    "\n",
    "    return dists\n",
    "\n",
    "# Example usage:\n",
    "matrix1 = np.array([[1, 2, 3], [4, 5, 6]])\n",
    "\n",
    "matrix2 = np.array([[7, 8, 9], [10, 11, 12]])\n",
    "\n",
    "result = distance_matrix(matrix1, matrix2)\n",
    "print(result)\n"
   ]
  },
  {
   "cell_type": "code",
   "execution_count": 11,
   "metadata": {},
   "outputs": [],
   "source": [
    "import matplotlib.pyplot as plt\n",
    "import numpy as np\n",
    "\n",
    "def distance_matrix(a, b):\n",
    "    \"\"\"\n",
    "    returns the L2 Euclidian distance matrix\n",
    "    \"\"\"\n",
    "    print(a.shape, b.shape)\n",
    "    a2 = np.sum(np.square(a), axis=1, keepdims=True) # sum over each line \n",
    "    b2 = np.sum(np.square(b), axis=1, keepdims=True)\n",
    "\n",
    "    dists = np.sqrt(a2 + b2.T - 2 * np.dot(a, b.T))\n",
    "    return dists\n",
    "\n",
    "# Select the most frequent one\n",
    "def democracy(arr):\n",
    "    \"\"\"\n",
    "    majority vote in the labels array \n",
    "    returns the most frequent label in the array\n",
    "    \"\"\"\n",
    "    values, count = np.unique(arr, return_counts=True)\n",
    "    return values[np.argmax(count)]\n",
    "\n",
    "def knn_predict(dists, labels_train, k):\n",
    "\n",
    "    nearest_indices = np.argsort(dists.T)[:, :k]\n",
    "    nearest_labels = [labels_train[i] for i in nearest_indices]\n",
    "    predictions = np.array([democracy(arr) for arr in nearest_labels])\n",
    "\n",
    "    return predictions\n",
    "\n",
    "def evaluate_knn(data_train, labels_train, data_test, labels_test, k):\n",
    "\n",
    "    dists = distance_matrix(data_train, data_test)      \n",
    "    prediction = knn_predict(dists, labels_train, k)\n",
    "\n",
    "    correct = 0\n",
    "    for pred, test in zip(prediction, labels_test):\n",
    "        if pred == test:\n",
    "            correct += 1\n",
    "\n",
    "    return correct / len(labels_test)\n",
    "\n",
    "\n",
    "def plot_evaluate_knn(data_train, labels_train, data_test, labels_test):\n",
    "\n",
    "    dists = distance_matrix(data_train, data_test)\n",
    "    sorted_dist = np.argsort(dists.T)\n",
    "\n",
    "    k_list = [i for i in range(1, 21)]\n",
    "    accuracies = []\n",
    "    for k in range(1, 21):\n",
    "        print(\"\\n Evaluating k=%d\" % k)\n",
    "        accuracies.append(evaluate_knn(\n",
    "            data_train=data_train,\n",
    "            labels_train=labels_train,\n",
    "            data_test=data_test,\n",
    "            labels_test=labels_test,\n",
    "            k=k\n",
    "        ))\n",
    "\n",
    "    plt.title(\"Variation of the accuracy as a function of k\")\n",
    "    plt.xlabel('k')\n",
    "    plt.ylabel(\"Accuracy\")\n",
    "    plt.grid()\n",
    "    plt.plot(k_list, accuracies, 'o-')\n",
    "    plt.show()"
   ]
  },
  {
   "cell_type": "code",
   "execution_count": 12,
   "metadata": {},
   "outputs": [
    {
     "name": "stdout",
     "output_type": "stream",
     "text": [
      "(54000, 3072) (6000, 3072)\n",
      "\n",
      " Evaluating k=1\n",
      "(54000, 3072) (6000, 3072)\n",
      "\n",
      " Evaluating k=2\n",
      "(54000, 3072) (6000, 3072)\n",
      "\n",
      " Evaluating k=3\n",
      "(54000, 3072) (6000, 3072)\n",
      "\n",
      " Evaluating k=4\n",
      "(54000, 3072) (6000, 3072)\n",
      "\n",
      " Evaluating k=5\n",
      "(54000, 3072) (6000, 3072)\n",
      "\n",
      " Evaluating k=6\n",
      "(54000, 3072) (6000, 3072)\n",
      "\n",
      " Evaluating k=7\n",
      "(54000, 3072) (6000, 3072)\n",
      "\n",
      " Evaluating k=8\n",
      "(54000, 3072) (6000, 3072)\n",
      "\n",
      " Evaluating k=9\n",
      "(54000, 3072) (6000, 3072)\n",
      "\n",
      " Evaluating k=10\n",
      "(54000, 3072) (6000, 3072)\n",
      "\n",
      " Evaluating k=11\n",
      "(54000, 3072) (6000, 3072)\n",
      "\n",
      " Evaluating k=12\n",
      "(54000, 3072) (6000, 3072)\n",
      "\n",
      " Evaluating k=13\n",
      "(54000, 3072) (6000, 3072)\n",
      "\n",
      " Evaluating k=14\n",
      "(54000, 3072) (6000, 3072)\n",
      "\n",
      " Evaluating k=15\n",
      "(54000, 3072) (6000, 3072)\n",
      "\n",
      " Evaluating k=16\n",
      "(54000, 3072) (6000, 3072)\n",
      "\n",
      " Evaluating k=17\n",
      "(54000, 3072) (6000, 3072)\n",
      "\n",
      " Evaluating k=18\n",
      "(54000, 3072) (6000, 3072)\n",
      "\n",
      " Evaluating k=19\n",
      "(54000, 3072) (6000, 3072)\n",
      "\n",
      " Evaluating k=20\n",
      "(54000, 3072) (6000, 3072)\n"
     ]
    },
    {
     "data": {
      "image/png": "[encoded data removed]",
      "text/plain": [
       "<Figure size 640x480 with 1 Axes>"
      ]
     },
     "metadata": {},
     "output_type": "display_data"
    }
   ],
   "source": [
    "data, labels = read_cifar(\"./data/cifar-10-batches-py\")\n",
    "\n",
    "split = 0.9\n",
    "data_train, labels_train, data_test, labels_test = split_dataset(data, labels, split)\n",
    "\n",
    "plot_evaluate_knn(data_train, labels_train, data_test, labels_test)"
   ]
  },
  {
   "cell_type": "code",
   "execution_count": 4,
   "metadata": {},
   "outputs": [
    {
     "name": "stdout",
     "output_type": "stream",
     "text": [
      "[[[1 2 3]\n",
      "  [4 5 6]]]\n"
     ]
    }
   ],
   "source": [
    "matrix1 = np.array([[1, 2, 3], [4, 5, 6]])\n",
    "print(np.expand_dims(matrix1, axis=0))"
   ]
  },
  {
   "cell_type": "markdown",
   "metadata": {},
   "source": [
    "2. predict function"
   ]
  },
  {
   "cell_type": "code",
   "execution_count": 5,
   "metadata": {},
   "outputs": [],
   "source": [
    "def knn_predict(dists, labels_train, k):\n",
    "    \"\"\"\n",
    "    dists : distance matrix between train set and test set\n",
    "    k : number of labels\n",
    "    \n",
    "    returns the predicted labels for the elements of data_test\n",
    "    \"\"\"\n",
    "    # Ensure k is not greater than the number of training samples\n",
    "    if k > len(labels_train):\n",
    "        raise ValueError(\"Number of neighbors (k) cannot be greater than the number of training samples\")\n",
    "\n",
    "    # Get the indices of the k nearest neighbors for each test sample\n",
    "    indices = np.argsort(dists, axis=1)[:, :k]\n",
    "\n",
    "    # Get the labels of the k nearest neighbors\n",
    "    k_nearest_labels = labels_train[indices]\n",
    "\n",
    "    # For each test sample, find the most common label among its k nearest neighbors\n",
    "    predicted_labels = np.array([np.argmax(np.bincount(labels)) for labels in k_nearest_labels])\n",
    "\n",
    "    return predicted_labels\n",
    "\n",
    "# Example usage:\n",
    "# Assuming 'dists' is the distance matrix, 'labels_train' is the training labels, and 'k' is the number of neighbors\n",
    "# 'data_test' is the test data for which you want to predict labels\n",
    "\n",
    "# predicted_labels = knn_predict(dists, labels_train, k)\n",
    "# print(predicted_labels)\n"
   ]
  },
  {
   "cell_type": "markdown",
   "metadata": {},
   "source": [
    "3. Evaluation function"
   ]
  },
  {
   "cell_type": "code",
   "execution_count": 6,
   "metadata": {},
   "outputs": [],
   "source": [
    "def evaluate_knn(data_train, labels_train, data_test, labels_test, k):\n",
    "    \"\"\"\n",
    "    returns classification rate (accuracy)\n",
    "    \"\"\"\n",
    "    dists = distance_matrix(data_train, data_test)\n",
    "    pred_labels = knn_predict(dists, labels_train, k)\n",
    "\n",
    "    accuracy = sum(pred_labels == labels_test)/len(labels_test)\n",
    "    return accuracy\n",
    "    "
   ]
  },
  {
   "cell_type": "markdown",
   "metadata": {},
   "source": [
    "## Artificial Neural Network"
   ]
  },
  {
   "cell_type": "code",
   "execution_count": 7,
   "metadata": {},
   "outputs": [
    {
     "name": "stdout",
     "output_type": "stream",
     "text": [
      "data shape : (10000, 3072) - labels shape : (10000,)\n",
      "data shape : (60000, 3072) - labels shape : (60000,)\n",
      "size labels_train : 45000 - 45000\n",
      "size labels_test : 15000 - 15000\n",
      "(45000, 3072) (15000, 3072)\n"
     ]
    }
   ],
   "source": [
    "import pickle\n",
    "import os \n",
    "# import numpy as np\n",
    "import random\n",
    "\n",
    "def read_cifar_batch(batch):\n",
    "    \"\"\"\n",
    "    batch : is a string, path of a single batch\n",
    "    returns : matrix data, vector labels\n",
    "    \"\"\"\n",
    "    with open(batch, 'rb') as fo:\n",
    "        dict = pickle.load(fo, encoding='bytes')\n",
    "    # print(dict.keys())\n",
    "    labels = dict[b'labels']\n",
    "    data = dict[b'data']\n",
    "    return(data, labels)\n",
    "\n",
    "def read_cifar(path):\n",
    "    \"\"\"\n",
    "    parameter : path of directory containing 5 data batches + test batch \n",
    "    returns : data, labels\n",
    "    \"\"\"\n",
    "    batches = [\"data_batch_1/\", \"data_batch_2/\", \"data_batch_3/\", \"data_batch_4/\", \"data_batch_5/\", \"test_batch/\"]\n",
    "    list_data = []\n",
    "    list_labels = []\n",
    "    for name in batches:\n",
    "        file_path = os.path.join(path, name)\n",
    "        data_i, labels_i = read_cifar_batch(file_path)\n",
    "        list_data.append(data_i)\n",
    "        list_labels.append(labels_i)\n",
    "    data = np.concatenate(list_data)\n",
    "    labels = np.concatenate(list_labels)\n",
    "    return data, labels\n",
    "\n",
    "def split_dataset(data, labels, split):\n",
    "    nb_im = len(data)\n",
    "    shuffled = [i for i in range(0, nb_im)]\n",
    "    np.random.shuffle(shuffled) # liste d'entiers mélangés sans répétition entre 0 et 59 999 : indices des images\n",
    "\n",
    "    split_index = round(split*nb_im)\n",
    "    # print(split_index)\n",
    "    train_index = shuffled[:split_index]\n",
    "    test_index = shuffled[split_index:]\n",
    "    data_train = []\n",
    "    labels_train = []\n",
    "    for i in train_index:\n",
    "        data_train.append(data[i])\n",
    "        labels_train.append(labels[i])\n",
    "    \n",
    "    data_test = []\n",
    "    labels_test = []\n",
    "    for i in test_index:\n",
    "        data_test.append(data[i])\n",
    "        labels_test.append(labels[i])\n",
    "\n",
    "    data_train = np.array(data_train, dtype=np.float32)\n",
    "    data_test = np.array(data_test, dtype=np.int64)\n",
    "    labels_train = np.array(labels_train, dtype=np.float32)\n",
    "    labels_test = np.array(labels_test)\n",
    "    \n",
    "    return(data_train, labels_train, data_test, labels_test)\n",
    "\n",
    "\n",
    "if __name__ == \"__main__\":\n",
    "    \n",
    "    path = \"D:/ECL/3A/MOD/IA/TD1/mod_4_6-td1-main/data/cifar-10-batches-py/\"\n",
    "\n",
    "    # Test read_cifar_batch\n",
    "    batch = \"D:/ECL/3A/MOD/IA/TD1/mod_4_6-td1-main/data/cifar-10-batches-py/data_batch_1/\"\n",
    "    data, labels = read_cifar_batch(batch)\n",
    "    print(f\"data shape : {np.shape(data)} - labels shape : {np.shape(labels)}\")\n",
    "\n",
    "    # Test read_cifar\n",
    "    data, labels = read_cifar(path)\n",
    "    print(f\"data shape : {np.shape(data)} - labels shape : {np.shape(labels)}\")\n",
    "    \n",
    "    # Test split_dataset\n",
    "    data_train, labels_train, data_test, labels_test = split_dataset(data, labels, 0.75)\n",
    "    \n",
    "    print(f\"size labels_train : {len(data_train)} - {len(labels_train)}\")\n",
    "    print(f\"size labels_test : {len(data_test)} - {len(labels_test)}\")\n",
    "    print(data_train.shape, data_test.shape)"
   ]
  },
  {
   "cell_type": "code",
   "execution_count": 3,
   "metadata": {},
   "outputs": [
    {
     "ename": "ValueError",
     "evalue": "not enough values to unpack (expected 2, got 1)",
     "output_type": "error",
     "traceback": [
      "\u001b[1;31m---------------------------------------------------------------------------\u001b[0m",
      "\u001b[1;31mValueError\u001b[0m                                Traceback (most recent call last)",
      "\u001b[1;32md:\\ECL\\3A\\MOD\\IA\\TD1\\mod_4_6-td1-main\\TP1.ipynb Cell 12\u001b[0m line \u001b[0;36m1\n\u001b[1;32m----> <a href='vscode-notebook-cell:/d%3A/ECL/3A/MOD/IA/TD1/mod_4_6-td1-main/TP1.ipynb#X14sZmlsZQ%3D%3D?line=0'>1</a>\u001b[0m N, din \u001b[39m=\u001b[39m np\u001b[39m.\u001b[39mshape(data_test)\n\u001b[0;32m      <a href='vscode-notebook-cell:/d%3A/ECL/3A/MOD/IA/TD1/mod_4_6-td1-main/TP1.ipynb#X14sZmlsZQ%3D%3D?line=1'>2</a>\u001b[0m \u001b[39mprint\u001b[39m(N, din)\n\u001b[0;32m      <a href='vscode-notebook-cell:/d%3A/ECL/3A/MOD/IA/TD1/mod_4_6-td1-main/TP1.ipynb#X14sZmlsZQ%3D%3D?line=2'>3</a>\u001b[0m \u001b[39mprint\u001b[39m(labels_test\u001b[39m.\u001b[39mshape)\n",
      "\u001b[1;31mValueError\u001b[0m: not enough values to unpack (expected 2, got 1)"
     ]
    }
   ],
   "source": [
    "N, din = np.shape(data_test)\n",
    "print(N, din)\n",
    "print(labels_test.shape)"
   ]
  },
  {
   "cell_type": "markdown",
   "metadata": {},
   "source": [
    "Example code"
   ]
  },
  {
   "cell_type": "code",
   "execution_count": 13,
   "metadata": {},
   "outputs": [
    {
     "name": "stdout",
     "output_type": "stream",
     "text": [
      "[1, 2] [3, 4, 5, 6, 7]\n"
     ]
    }
   ],
   "source": [
    "import numpy as np\n",
    "\n",
    "N = 30  # number of input data\n",
    "d_in = 3  # input dimension\n",
    "d_h = 3  # number of neurons in the hidden layer\n",
    "d_out = 2  # output dimension (number of neurons of the output layer)\n",
    "\n",
    "# Random initialization of the network weights and biaises\n",
    "w1 = 2 * np.random.rand(d_in, d_h) - 1  # first layer weights\n",
    "b1 = np.zeros((1, d_h))  # first layer biaises\n",
    "w2 = 2 * np.random.rand(d_h, d_out) - 1  # second layer weights\n",
    "b2 = np.zeros((1, d_out))  # second layer biaises\n",
    "\n",
    "data = np.random.rand(N, d_in)  # create a random data\n",
    "targets = np.random.rand(N, d_out)  # create a random targets\n",
    "\n",
    "# Forward pass\n",
    "a0 = data # the data are the input of the first layer\n",
    "z1 = np.matmul(a0, w1) + b1  # input of the hidden layer\n",
    "a1 = 1 / (1 + np.exp(-z1))  # output of the hidden layer (sigmoid activation function)\n",
    "z2 = np.matmul(a1, w2) + b2  # input of the output layer\n",
    "a2 = 1 / (1 + np.exp(-z2))  # output of the output layer (sigmoid activation function)\n",
    "predictions = a2  # the predicted values are the outputs of the output layer\n",
    "\n",
    "# Compute loss (MSE)\n",
    "loss = np.mean(np.square(predictions - targets))\n",
    "print(loss)"
   ]
  },
  {
   "cell_type": "markdown",
   "metadata": {},
   "source": [
    "10. Create a Python file named `mlp.py`. Use the above code to write the function `learn_once_mse` taking as parameters:\n",
    "- `w1`, `b1`, `w2`, `b2` the weights\n",
    "- `data` a matrix of shape (`batch_size` x `d_in`)\n",
    "- `targets` a matrix of shape (`batch_size` x `d_out`)\n",
    "- `learning_rate` the learning rate\n",
    "\n",
    "performs one gradient descent step by step, and returns :\n",
    "- `w1`, `b1`, `w2`, `b2` the updated weights and biases\n",
    "- `loss`, the loss for monitoring purpose\n"
   ]
  },
  {
   "cell_type": "code",
   "execution_count": 31,
   "metadata": {},
   "outputs": [],
   "source": [
    "def sigmoid(mat):\n",
    "    \"\"\" \n",
    "    Returns the sigmoid of matrix mat\n",
    "    \"\"\"\n",
    "    return 1 / (1 + np.exp(-mat))\n",
    "\n",
    "def learn_once_mse(w1, b1, w2, b2, data, targets, learning_rate):\n",
    "    \"\"\" \n",
    "    performs one learning step and one gradient descent\n",
    "    returns the updated weights and biases and the loss for monitoring purpose\n",
    "    \"\"\"\n",
    "    batch_size, d_out = np.shape(targets) # data has a shape of (N, d_out)\n",
    "    # Forward pass\n",
    "    a0 = data # the data are the input of the input layer\n",
    "    z1 = np.matmul(a0, w1) + b1  # input of the hidden layer\n",
    "    a1 = sigmoid(z1) # output of the hidden layer (sigmoid activation function)\n",
    "    z2 = np.matmul(a1, w2) + b2  # input of the output layer\n",
    "    a2 = sigmoid(z2)  # output of the output layer (sigmoid activation function)\n",
    "    predictions = a2  # the predicted values are the outputs of the output layer\n",
    "\n",
    "    # Compute loss (MSE)\n",
    "    loss = np.mean(np.square(predictions - targets))    \n",
    "\n",
    "    # Error backpropagation\n",
    "    dc_da2 = 2/(batch_size*d_out) * (a2 - targets)          # dim : N x d_out\n",
    "    dc_dz2 = dc_da2 * a2 * (1 - a2)                # dim : N x d_out\n",
    "    a1t = np.transpose(a1)                         # dim : d_h x N\n",
    "    dc_dw2 = np.matmul(a1t, dc_dz2)                # dim : d_h x d_out\n",
    "    dc_db2 = np.sum(dc_dz2, axis=0)                # dim : 1 x d_h ; line vector containing the sum of all the values over a line\n",
    "    w2t = np.transpose(w2)                         # dim : d_out x d_h\n",
    "    dc_da1 = np.matmul(dc_dz2, w2t)                # dim : N x d_h\n",
    "    dc_dz1 = dc_da1 * a1 * (1 - a1)                # dim : N x d_h\n",
    "    a0t = np.transpose(a0)                         # dim : d_in x N\n",
    "    dc_dw1 = np.matmul(a0t, dc_dz1)                # dim : d_in x d_h \n",
    "    dc_db1 = np.sum(dc_dz1, axis=0)                # dim :  1 x d_in\n",
    "\n",
    "    # Parameter update\n",
    "    w1 = w1 - learning_rate * dc_dw1\n",
    "    b1 = b1 - learning_rate * dc_db1\n",
    "    w2 = w2 - learning_rate * dc_dw2\n",
    "    b2 = b2 - learning_rate * dc_db2    \n",
    "\n",
    "    return (w1, b1, w2, b2, loss)"
   ]
  },
  {
   "cell_type": "code",
   "execution_count": 4,
   "metadata": {},
   "outputs": [
    {
     "name": "stdout",
     "output_type": "stream",
     "text": [
      "[[1 2 3]\n",
      " [3 4 5]]\n",
      "[4 6 8]\n"
     ]
    }
   ],
   "source": [
    "import numpy as np\n",
    "\n",
    "a = np.array([[1,2,3], [3,4,5]])\n",
    "print(a)\n",
    "print(np.sum(a, axis = 0))"
   ]
  },
  {
   "cell_type": "markdown",
   "metadata": {},
   "source": [
    "11. Write the function `one_hot`  taking a (n)-D array as parameters and returning the corresponding (n+1)-D one-hot matrix."
   ]
  },
  {
   "cell_type": "code",
   "execution_count": 14,
   "metadata": {},
   "outputs": [],
   "source": [
    "import numpy as np\n",
    "# number of classes is d_out\n",
    "def one_hot(m):\n",
    "    res = [[1 if m[i]==j else 0 for j in range(np.max(m)+1)] for i in range(len(m))]\n",
    "    res = np.array(res)\n",
    "    return res\n"
   ]
  },
  {
   "cell_type": "code",
   "execution_count": 15,
   "metadata": {},
   "outputs": [
    {
     "name": "stdout",
     "output_type": "stream",
     "text": [
      "[1 2 0]\n",
      "[[0 1 0]\n",
      " [0 0 1]\n",
      " [1 0 0]]\n"
     ]
    }
   ],
   "source": [
    "vect = np.array([1,2,0])\n",
    "print(vect)\n",
    "print(one_hot(vect))"
   ]
  },
  {
   "cell_type": "markdown",
   "metadata": {},
   "source": [
    "12. Write the function `learn_once_cross_entropy`."
   ]
  },
  {
   "cell_type": "code",
   "execution_count": 33,
   "metadata": {},
   "outputs": [
    {
     "name": "stdout",
     "output_type": "stream",
     "text": [
      "[[1 2 3]\n",
      " [1 2 3]]\n",
      "[[6]\n",
      " [6]]\n"
     ]
    }
   ],
   "source": [
    "arr = np.array([[1,2,3],[1,2,3]])\n",
    "print(arr)\n",
    "print(np.sum(arr, axis=1, keepdims=True))"
   ]
  },
  {
   "cell_type": "code",
   "execution_count": 44,
   "metadata": {},
   "outputs": [],
   "source": [
    "def softmax(z):\n",
    "    exp_z = np.exp(z)\n",
    "    sum_lines = np.sum(exp_z, axis=1, keepdims=True) # sum of values line by line\n",
    "    return exp_z / sum_lines\n",
    "\n",
    "def learn_once_cross_entropy(w1, b1, w2, b2, data, labels_train, learning_rate) :\n",
    "    \"\"\"\n",
    "    performs one learning step and one gradient descent step\n",
    "    returns the updated weights and biases and the loss for monitoring purpose\n",
    "    \"\"\"\n",
    "    # one_hot vector encoding the label\n",
    "    y = one_hot(labels_train) \n",
    "\n",
    "    # Forward pass\n",
    "    a0 = data # the data are the input of the first layer\n",
    "    z1 = np.matmul(a0, w1) + b1  # input of the hidden layer\n",
    "    a1 = sigmoid(z1)  # output of the hidden layer (sigmoid activation function)\n",
    "    z2 = np.matmul(a1, w2) + b2  # input of the output layer\n",
    "    a2 = softmax(z2) # output of the output layer (softmax activation function)\n",
    "    \n",
    "    # Compute loss : cross-entropy loss \n",
    "    loss = -np.mean(y*np.log(a2))  \n",
    "\n",
    "    # Error backpropagation\n",
    "    dc_dz2 = a2 - targets                          # dim : N x d_out\n",
    "    # all the other gradients do not change\n",
    "    a1t = np.transpose(a1)                         # dim : d_h x N\n",
    "    dc_dw2 = np.matmul(a1t, dc_dz2)                # dim : d_h x d_out\n",
    "    dc_db2 = np.sum(dc_dz2, axis=0)                # dim : 1 x d_h ; line vector containing the sum of all the values over a line\n",
    "    w2t = np.transpose(w2)                         # dim : d_out x d_h\n",
    "    dc_da1 = np.matmul(dc_dz2, w2t)                # dim : N x d_h\n",
    "    dc_dz1 = dc_da1 * a1 * (1 - a1)                # dim : N x d_h\n",
    "    a0t = np.transpose(a0)                         # dim : d_in x N\n",
    "    dc_dw1 = np.matmul(a0t, dc_dz1)                # dim : d_in x d_h \n",
    "    dc_db1 = np.sum(dc_dz1, axis=0)                # dim :  1 x d_in\n",
    "\n",
    "    # Parameter update\n",
    "    w1 = w1 - learning_rate * dc_dw1\n",
    "    b1 = b1 - learning_rate * dc_db1\n",
    "    w2 = w2 - learning_rate * dc_dw2\n",
    "    b2 = b2 - learning_rate * dc_db2\n",
    "\n",
    "    # accuracy calculation\n",
    "    true_predictions = np.sum(labels_train == predictions_vect) # true prediction means the prediction is equal to the target\n",
    "    total_predictions = np.shape(labels_test)[0] # number of input data in the batch i.e. number of lines of the labels_train matrix i.e. first dimension of the matrix\n",
    "    accuracy = true_predictions/total_predictions\n",
    "    \n",
    "    # return the accuracy for the training function\n",
    "    return w1, b1, w2, b2, loss, accuracy\n"
   ]
  },
  {
   "cell_type": "markdown",
   "metadata": {},
   "source": [
    "13. Write the function `train_mlp`"
   ]
  },
  {
   "cell_type": "code",
   "execution_count": 35,
   "metadata": {},
   "outputs": [],
   "source": [
    "def train_mlp(w1, b1, w2, b2, data_train, labels_train, learning_rate, num_epoch):\n",
    "    \"\"\"\n",
    "    performs num_epoch of training steps\n",
    "    returns final weights and biases\n",
    "    and returns train_accuracies : list of train accuracies accross epochs, list of floats\n",
    "    \"\"\"\n",
    "    train_accuracies = []\n",
    "    for epoch in range(num_epoch):\n",
    "        print(f\"epoch : {epoch}\")\n",
    "        # one training step\n",
    "        w1, b1, w2, b2, loss, accuracy = learn_once_cross_entropy(w1, b1, w2, b2, data_train, labels_train, learning_rate)\n",
    "        print(f\"loss : {loss}\\naccuracy : {accuracy}\\n\")\n",
    "        train_accuracies.append(accuracy)\n",
    "         \n",
    "    return w1, b1, w2, b2, train_accuracies"
   ]
  },
  {
   "cell_type": "markdown",
   "metadata": {},
   "source": [
    "14. Write the function `test_mlp`"
   ]
  },
  {
   "cell_type": "code",
   "execution_count": 40,
   "metadata": {},
   "outputs": [
    {
     "name": "stdout",
     "output_type": "stream",
     "text": [
      "[[1 2]\n",
      " [3 4]\n",
      " [5 6]]\n",
      "[1 1 1]\n"
     ]
    }
   ],
   "source": [
    "m = np.array([[1,2],[3,4],[5,6]])\n",
    "print(m)\n",
    "predictions = np.argmax(m, axis=1)\n",
    "print(predictions)\n"
   ]
  },
  {
   "cell_type": "code",
   "execution_count": 36,
   "metadata": {},
   "outputs": [],
   "source": [
    "# the network is already trained\n",
    "\n",
    "def test_mlp(w1, b1, w2, b2, data_test, labels_test):\n",
    "    \"\"\"\n",
    "    Only forward pass\n",
    "    Returns the test accuracy\n",
    "    \"\"\"\n",
    "    # code similar to the learn_once_cross_entropy function, but no gradient descent\n",
    "    # one_hot vector encoding the label\n",
    "    y = one_hot(labels_test) \n",
    "\n",
    "    # Forward pass\n",
    "    a0 = data_test # the data are the input of the first layer\n",
    "    z1 = np.matmul(a0, w1) + b1  # input of the hidden layer\n",
    "    a1 = sigmoid(z1)  # output of the hidden layer (sigmoid activation function)\n",
    "    z2 = np.matmul(a1, w2) + b2  # input of the output layer\n",
    "    a2 = softmax(z2) # output of the output layer (softmax activation function)    \n",
    "    \n",
    "    # accuracy \n",
    "    predictions = np.argmax(a2, axis=1) # returns index of the max of each line, returns a line vector\n",
    "    true_predictions = np.sum(labels_test == predictions)\n",
    "    total_predictions = labels_test.shape[0]\n",
    "    test_accuracy = true_predictions/total_predictions\n",
    "    \n",
    "    return test_accuracy"
   ]
  },
  {
   "cell_type": "markdown",
   "metadata": {},
   "source": [
    "15. Write the function `run_mlp_training`"
   ]
  },
  {
   "cell_type": "code",
   "execution_count": 37,
   "metadata": {},
   "outputs": [],
   "source": [
    "def run_mlp_training(data_train, labels_train, data_test, labels_test, d_h, learning_rate, num_epoch):\n",
    "\n",
    "    N, d_in = np.shape(data_train)  # input dimension\n",
    "    d_out = np.shape(labels_test)[0]  # output dimension (number of neurons of the output layer)\n",
    "\n",
    "    # Random initialization of the network weights and biaises\n",
    "    w1 = 2 * np.random.rand(d_in, d_h) - 1  # first layer weights\n",
    "    b1 = np.zeros((1, d_h))  # first layer biaises\n",
    "    w2 = 2 * np.random.rand(d_h, d_out) - 1  # second layer weights\n",
    "    b2 = np.zeros((1, d_out))  # second layer biaises\n",
    "\n",
    "    # Training\n",
    "    w1, b1, w2, b2, train_accuracies = train_mlp(w1, b1, w2, b2, data_train, labels_train, learning_rate, num_epoch)\n",
    "\n",
    "    # Testing\n",
    "    test_accuracy = test_mlp(w1, b1, w2, b2, data_test, labels_test)\n",
    "\n",
    "    return train_accuracies, test_accuracy"
   ]
  },
  {
   "cell_type": "markdown",
   "metadata": {},
   "source": [
    "16. For `split_factor=0.9`, `d_h=64`, `learning_rate=0.1` and `num_epoch=100`, plot the evolution of learning accuracy across learning epochs"
   ]
  },
  {
   "cell_type": "code",
   "execution_count": 43,
   "metadata": {},
   "outputs": [
    {
     "name": "stdout",
     "output_type": "stream",
     "text": [
      "(6000, 10)\n"
     ]
    }
   ],
   "source": [
    "y = one_hot(labels_test)\n",
    "print(np.shape(y))"
   ]
  },
  {
   "cell_type": "code",
   "execution_count": 40,
   "metadata": {},
   "outputs": [
    {
     "name": "stdout",
     "output_type": "stream",
     "text": [
      "epoch : 0\n"
     ]
    },
    {
     "name": "stderr",
     "output_type": "stream",
     "text": [
      "C:\\Users\\basil\\AppData\\Local\\Temp\\ipykernel_11020\\516218375.py:5: RuntimeWarning: overflow encountered in exp\n",
      "  return 1 / (1 + np.exp(-mat))\n"
     ]
    },
    {
     "ename": "ValueError",
     "evalue": "operands could not be broadcast together with shapes (54000,10) (54000,) ",
     "output_type": "error",
     "traceback": [
      "\u001b[1;31m---------------------------------------------------------------------------\u001b[0m",
      "\u001b[1;31mValueError\u001b[0m                                Traceback (most recent call last)",
      "\u001b[1;32md:\\ECL\\3A\\MOD\\IA\\TD1\\mod_4_6-td1-main\\TP1.ipynb Cell 32\u001b[0m line \u001b[0;36m8\n\u001b[0;32m      <a href='vscode-notebook-cell:/d%3A/ECL/3A/MOD/IA/TD1/mod_4_6-td1-main/TP1.ipynb#X44sZmlsZQ%3D%3D?line=4'>5</a>\u001b[0m data, labels \u001b[39m=\u001b[39m read_cifar(path) \u001b[39m# read the whole dataset\u001b[39;00m\n\u001b[0;32m      <a href='vscode-notebook-cell:/d%3A/ECL/3A/MOD/IA/TD1/mod_4_6-td1-main/TP1.ipynb#X44sZmlsZQ%3D%3D?line=6'>7</a>\u001b[0m data_train, labels_train, data_test, labels_test \u001b[39m=\u001b[39m split_dataset(data, labels, \u001b[39m0.9\u001b[39m)\n\u001b[1;32m----> <a href='vscode-notebook-cell:/d%3A/ECL/3A/MOD/IA/TD1/mod_4_6-td1-main/TP1.ipynb#X44sZmlsZQ%3D%3D?line=7'>8</a>\u001b[0m train_accuracies, test_accuracy \u001b[39m=\u001b[39m run_mlp_training(data_train, labels_train, data_test, labels_test, d_h\u001b[39m=\u001b[39;49m\u001b[39m64\u001b[39;49m, learning_rate\u001b[39m=\u001b[39;49m\u001b[39m0.1\u001b[39;49m, num_epoch\u001b[39m=\u001b[39;49m\u001b[39m100\u001b[39;49m)\n",
      "\u001b[1;32md:\\ECL\\3A\\MOD\\IA\\TD1\\mod_4_6-td1-main\\TP1.ipynb Cell 32\u001b[0m line \u001b[0;36m1\n\u001b[0;32m     <a href='vscode-notebook-cell:/d%3A/ECL/3A/MOD/IA/TD1/mod_4_6-td1-main/TP1.ipynb#X44sZmlsZQ%3D%3D?line=9'>10</a>\u001b[0m b2 \u001b[39m=\u001b[39m np\u001b[39m.\u001b[39mzeros((\u001b[39m1\u001b[39m, d_out))  \u001b[39m# second layer biaises\u001b[39;00m\n\u001b[0;32m     <a href='vscode-notebook-cell:/d%3A/ECL/3A/MOD/IA/TD1/mod_4_6-td1-main/TP1.ipynb#X44sZmlsZQ%3D%3D?line=11'>12</a>\u001b[0m \u001b[39m# Training\u001b[39;00m\n\u001b[1;32m---> <a href='vscode-notebook-cell:/d%3A/ECL/3A/MOD/IA/TD1/mod_4_6-td1-main/TP1.ipynb#X44sZmlsZQ%3D%3D?line=12'>13</a>\u001b[0m w1, b1, w2, b2, train_accuracies \u001b[39m=\u001b[39m train_mlp(w1, b1, w2, b2, data_train, labels_train, learning_rate, num_epoch)\n\u001b[0;32m     <a href='vscode-notebook-cell:/d%3A/ECL/3A/MOD/IA/TD1/mod_4_6-td1-main/TP1.ipynb#X44sZmlsZQ%3D%3D?line=14'>15</a>\u001b[0m \u001b[39m# Testing\u001b[39;00m\n\u001b[0;32m     <a href='vscode-notebook-cell:/d%3A/ECL/3A/MOD/IA/TD1/mod_4_6-td1-main/TP1.ipynb#X44sZmlsZQ%3D%3D?line=15'>16</a>\u001b[0m test_accuracy \u001b[39m=\u001b[39m test_mlp(w1, b1, w2, b2, data_test, labels_test)\n",
      "\u001b[1;32md:\\ECL\\3A\\MOD\\IA\\TD1\\mod_4_6-td1-main\\TP1.ipynb Cell 32\u001b[0m line \u001b[0;36m1\n\u001b[0;32m      <a href='vscode-notebook-cell:/d%3A/ECL/3A/MOD/IA/TD1/mod_4_6-td1-main/TP1.ipynb#X44sZmlsZQ%3D%3D?line=8'>9</a>\u001b[0m \u001b[39mprint\u001b[39m(\u001b[39mf\u001b[39m\u001b[39m\"\u001b[39m\u001b[39mepoch : \u001b[39m\u001b[39m{\u001b[39;00mepoch\u001b[39m}\u001b[39;00m\u001b[39m\"\u001b[39m)\n\u001b[0;32m     <a href='vscode-notebook-cell:/d%3A/ECL/3A/MOD/IA/TD1/mod_4_6-td1-main/TP1.ipynb#X44sZmlsZQ%3D%3D?line=9'>10</a>\u001b[0m \u001b[39m# one training step\u001b[39;00m\n\u001b[1;32m---> <a href='vscode-notebook-cell:/d%3A/ECL/3A/MOD/IA/TD1/mod_4_6-td1-main/TP1.ipynb#X44sZmlsZQ%3D%3D?line=10'>11</a>\u001b[0m w1, b1, w2, b2, loss, accuracy \u001b[39m=\u001b[39m learn_once_cross_entropy(w1, b1, w2, b2, data_train, labels_train, learning_rate)\n\u001b[0;32m     <a href='vscode-notebook-cell:/d%3A/ECL/3A/MOD/IA/TD1/mod_4_6-td1-main/TP1.ipynb#X44sZmlsZQ%3D%3D?line=11'>12</a>\u001b[0m \u001b[39mprint\u001b[39m(\u001b[39mf\u001b[39m\u001b[39m\"\u001b[39m\u001b[39mloss : \u001b[39m\u001b[39m{\u001b[39;00mloss\u001b[39m}\u001b[39;00m\u001b[39m\\n\u001b[39;00m\u001b[39maccuracy : \u001b[39m\u001b[39m{\u001b[39;00maccuracy\u001b[39m}\u001b[39;00m\u001b[39m\\n\u001b[39;00m\u001b[39m\"\u001b[39m)\n\u001b[0;32m     <a href='vscode-notebook-cell:/d%3A/ECL/3A/MOD/IA/TD1/mod_4_6-td1-main/TP1.ipynb#X44sZmlsZQ%3D%3D?line=12'>13</a>\u001b[0m train_accuracies\u001b[39m.\u001b[39mappend(accuracy)\n",
      "\u001b[1;32md:\\ECL\\3A\\MOD\\IA\\TD1\\mod_4_6-td1-main\\TP1.ipynb Cell 32\u001b[0m line \u001b[0;36m2\n\u001b[0;32m     <a href='vscode-notebook-cell:/d%3A/ECL/3A/MOD/IA/TD1/mod_4_6-td1-main/TP1.ipynb#X44sZmlsZQ%3D%3D?line=20'>21</a>\u001b[0m \u001b[39m# Compute loss : cross-entropy loss \u001b[39;00m\n\u001b[0;32m     <a href='vscode-notebook-cell:/d%3A/ECL/3A/MOD/IA/TD1/mod_4_6-td1-main/TP1.ipynb#X44sZmlsZQ%3D%3D?line=21'>22</a>\u001b[0m predictions_vect \u001b[39m=\u001b[39m np\u001b[39m.\u001b[39margmax(a2, axis\u001b[39m=\u001b[39m\u001b[39m1\u001b[39m) \u001b[39m# the predicted label (i.e. each line of a2) of each input in the batch is the index of the maximum of a2 on each line\u001b[39;00m\n\u001b[1;32m---> <a href='vscode-notebook-cell:/d%3A/ECL/3A/MOD/IA/TD1/mod_4_6-td1-main/TP1.ipynb#X44sZmlsZQ%3D%3D?line=22'>23</a>\u001b[0m loss \u001b[39m=\u001b[39m \u001b[39m-\u001b[39mnp\u001b[39m.\u001b[39mmean(y\u001b[39m*\u001b[39;49mnp\u001b[39m.\u001b[39;49mlog(predictions_vect))  \n\u001b[0;32m     <a href='vscode-notebook-cell:/d%3A/ECL/3A/MOD/IA/TD1/mod_4_6-td1-main/TP1.ipynb#X44sZmlsZQ%3D%3D?line=24'>25</a>\u001b[0m \u001b[39m# Error backpropagation\u001b[39;00m\n\u001b[0;32m     <a href='vscode-notebook-cell:/d%3A/ECL/3A/MOD/IA/TD1/mod_4_6-td1-main/TP1.ipynb#X44sZmlsZQ%3D%3D?line=25'>26</a>\u001b[0m dc_dz2 \u001b[39m=\u001b[39m a2 \u001b[39m-\u001b[39m targets                          \u001b[39m# dim : N x d_out\u001b[39;00m\n",
      "\u001b[1;31mValueError\u001b[0m: operands could not be broadcast together with shapes (54000,10) (54000,) "
     ]
    }
   ],
   "source": [
    "import matplotlib.pyplot as plt\n",
    "\n",
    "path = \"D:/ECL/3A/MOD/IA/TD1/mod_4_6-td1-main/data/cifar-10-batches-py/\"\n",
    "# Test read_cifar\n",
    "data, labels = read_cifar(path) # read the whole dataset\n",
    "\n",
    "data_train, labels_train, data_test, labels_test = split_dataset(data, labels, 0.9)\n",
    "train_accuracies, test_accuracy = run_mlp_training(data_train, labels_train, data_test, labels_test, d_h=64, learning_rate=0.1, num_epoch=100)\n"
   ]
  }
 ],
 "metadata": {
  "kernelspec": {
   "display_name": "Python 3",
   "language": "python",
   "name": "python3"
  },
  "language_info": {
   "codemirror_mode": {
    "name": "ipython",
    "version": 3
   },
   "file_extension": ".py",
   "mimetype": "text/x-python",
   "name": "python",
   "nbconvert_exporter": "python",
   "pygments_lexer": "ipython3",
   "version": "3.9.13"
  }
 },
 "nbformat": 4,
 "nbformat_minor": 2
}
